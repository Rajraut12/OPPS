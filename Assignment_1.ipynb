{
  "nbformat": 4,
  "nbformat_minor": 0,
  "metadata": {
    "colab": {
      "provenance": [],
      "authorship_tag": "ABX9TyMIjOIrxtc64Hd2Qd25K9O8",
      "include_colab_link": true
    },
    "kernelspec": {
      "name": "python3",
      "display_name": "Python 3"
    },
    "language_info": {
      "name": "python"
    }
  },
  "cells": [
    {
      "cell_type": "markdown",
      "metadata": {
        "id": "view-in-github",
        "colab_type": "text"
      },
      "source": [
        "<a href=\"https://colab.research.google.com/github/Rajraut12/OPPS/blob/main/Assignment_1.ipynb\" target=\"_parent\"><img src=\"https://colab.research.google.com/assets/colab-badge.svg\" alt=\"Open In Colab\"/></a>"
      ]
    },
    {
      "cell_type": "markdown",
      "source": [
        "Write a Python program to create a Vehicle class with max_speed and mileage instance attributes."
      ],
      "metadata": {
        "id": "vLITvzMxrQzB"
      }
    },
    {
      "cell_type": "code",
      "execution_count": null,
      "metadata": {
        "colab": {
          "base_uri": "https://localhost:8080/"
        },
        "id": "uVfabICQqtSU",
        "outputId": "b7ae9d5a-0db8-4947-a58d-c140a3c98da6"
      },
      "outputs": [
        {
          "output_type": "stream",
          "name": "stdout",
          "text": [
            "Car max speed: 200\n",
            "Car mileage: 30\n"
          ]
        }
      ],
      "source": [
        "class Vehicle:\n",
        "    def __init__(self, max_speed, mileage):\n",
        "        self.max_speed = max_speed\n",
        "        self.mileage = mileage\n",
        "\n",
        "# Example usage:\n",
        "car = Vehicle(200, 30)\n",
        "print(\"Car max speed:\", car.max_speed)\n",
        "print(\"Car mileage:\", car.mileage)\n"
      ]
    },
    {
      "cell_type": "markdown",
      "source": [
        "Create a Vehicle class without any variables and methods"
      ],
      "metadata": {
        "id": "UHp0FKSerfwe"
      }
    },
    {
      "cell_type": "code",
      "source": [
        "class Vehicle:\n",
        "    pass\n"
      ],
      "metadata": {
        "id": "9NpGCc_DrFNG"
      },
      "execution_count": null,
      "outputs": []
    },
    {
      "cell_type": "markdown",
      "source": [
        "Write a Python program to create a class representing a Circle. Include methods to calculate its area and perimeter."
      ],
      "metadata": {
        "id": "bMyyq4zhrt2g"
      }
    },
    {
      "cell_type": "code",
      "source": [
        "class Circle:\n",
        "    def __init__(self, radius):\n",
        "        self.radius = radius\n",
        "\n",
        "    def area(self):\n",
        "        return 3.14159 * self.radius**2  # Using pi as an approximation\n",
        "\n",
        "    def perimeter(self):\n",
        "        return 2 * 3.14159 * self.radius  # Using pi as an approximation\n",
        "\n",
        "# Example usage:\n",
        "circle = Circle(5)\n",
        "print(\"Circle area:\", circle.area())\n",
        "print(\"Circle perimeter:\", circle.perimeter())\n"
      ],
      "metadata": {
        "colab": {
          "base_uri": "https://localhost:8080/"
        },
        "id": "UP9dYnI-rpCr",
        "outputId": "0b0b5950-e17f-44fc-e761-6c6d7f8980fa"
      },
      "execution_count": null,
      "outputs": [
        {
          "output_type": "stream",
          "name": "stdout",
          "text": [
            "Circle area: 78.53975\n",
            "Circle perimeter: 31.4159\n"
          ]
        }
      ]
    },
    {
      "cell_type": "markdown",
      "source": [
        "Write a Python program to create a person class. Include attributes like name, country and date of birth. Implement a method to determine the person's age."
      ],
      "metadata": {
        "id": "Ma_A-yWEsC58"
      }
    },
    {
      "cell_type": "code",
      "source": [
        "from datetime import datetime\n",
        "\n",
        "class Person:\n",
        "    def __init__(self, name, country, dob):\n",
        "        self.name = name\n",
        "        self.country = country\n",
        "        self.dob = dob\n",
        "\n",
        "    def calculate_age(self):\n",
        "        today = datetime.today()\n",
        "        dob = datetime.strptime(self.dob, '%Y-%m-%d')\n",
        "        age = today.year - dob.year - ((today.month, today.day) < (dob.month, dob.day))\n",
        "        return age\n",
        "\n",
        "# Example usage:\n",
        "person = Person(\"John\", \"USA\", \"1990-05-15\")\n",
        "print(\"Name:\", person.name)\n",
        "print(\"Country:\", person.country)\n",
        "print(\"Date of Birth:\", person.dob)\n",
        "print(\"Age:\", person.calculate_age())\n"
      ],
      "metadata": {
        "colab": {
          "base_uri": "https://localhost:8080/"
        },
        "id": "pGK1mwN7rzku",
        "outputId": "86565e46-1314-4a5d-bde0-283619931df5"
      },
      "execution_count": null,
      "outputs": [
        {
          "output_type": "stream",
          "name": "stdout",
          "text": [
            "Name: John\n",
            "Country: USA\n",
            "Date of Birth: 1990-05-15\n",
            "Age: 33\n"
          ]
        }
      ]
    },
    {
      "cell_type": "markdown",
      "source": [
        "Write a Python program to create a calculator class. Include methods for basic arithmetic operations.\n",
        "ChatGPT\n"
      ],
      "metadata": {
        "id": "uEiy4GHWsMEz"
      }
    },
    {
      "cell_type": "code",
      "source": [
        "class Calculator:\n",
        "    def add(self, num1, num2):\n",
        "        return num1 + num2\n",
        "\n",
        "    def subtract(self, num1, num2):\n",
        "        return num1 - num2\n",
        "\n",
        "    def multiply(self, num1, num2):\n",
        "        return num1 * num2\n",
        "\n",
        "    def divide(self, num1, num2):\n",
        "        if num2 == 0:\n",
        "            return \"Cannot divide by zero!\"\n",
        "        return num1 / num2\n",
        "\n",
        "# Example usage:\n",
        "calc = Calculator()\n",
        "print(\"Addition:\", calc.add(5, 3))\n",
        "print(\"Subtraction:\", calc.subtract(10, 4))\n",
        "print(\"Multiplication:\", calc.multiply(2, 6))\n",
        "print(\"Division:\", calc.divide(8, 2))\n"
      ],
      "metadata": {
        "colab": {
          "base_uri": "https://localhost:8080/"
        },
        "id": "QJaJ8rOwsHop",
        "outputId": "c7e3d637-1383-4f6d-bf74-9b1f61eac94d"
      },
      "execution_count": null,
      "outputs": [
        {
          "output_type": "stream",
          "name": "stdout",
          "text": [
            "Addition: 8\n",
            "Subtraction: 6\n",
            "Multiplication: 12\n",
            "Division: 4.0\n"
          ]
        }
      ]
    },
    {
      "cell_type": "markdown",
      "source": [
        "Write a Python program to create a class that represents a shape. Include methods to calculate its area and perimeter. Implement subclasses for different shapes like circle, triangle, and square.\n",
        "ChatGPT\n"
      ],
      "metadata": {
        "id": "cFrAyTVNsWei"
      }
    },
    {
      "cell_type": "code",
      "source": [
        "import math\n",
        "\n",
        "class Shape:\n",
        "    def area(self):\n",
        "        pass\n",
        "\n",
        "    def perimeter(self):\n",
        "        pass\n",
        "\n",
        "class Circle(Shape):\n",
        "    def __init__(self, radius):\n",
        "        self.radius = radius\n",
        "\n",
        "    def area(self):\n",
        "        return math.pi * self.radius**2\n",
        "\n",
        "    def perimeter(self):\n",
        "        return 2 * math.pi * self.radius\n",
        "\n",
        "class Triangle(Shape):\n",
        "    def __init__(self, side1, side2, side3):\n",
        "        self.side1 = side1\n",
        "        self.side2 = side2\n",
        "        self.side3 = side3\n",
        "\n",
        "    def perimeter(self):\n",
        "        return self.side1 + self.side2 + self.side3\n",
        "\n",
        "    def area(self):\n",
        "        s = (self.side1 + self.side2 + self.side3) / 2\n",
        "        return math.sqrt(s * (s - self.side1) * (s - self.side2) * (s - self.side3))\n",
        "\n",
        "class Square(Shape):\n",
        "    def __init__(self, side):\n",
        "        self.side = side\n",
        "\n",
        "    def perimeter(self):\n",
        "        return 4 * self.side\n",
        "\n",
        "    def area(self):\n",
        "        return self.side ** 2\n",
        "\n",
        "# Example usage:\n",
        "circle = Circle(5)\n",
        "print(\"Circle area:\", circle.area())\n",
        "print(\"Circle perimeter:\", circle.perimeter())\n",
        "\n",
        "triangle = Triangle(3, 4, 5)\n",
        "print(\"Triangle area:\", triangle.area())\n",
        "print(\"Triangle perimeter:\", triangle.perimeter())\n",
        "\n",
        "square = Square(4)\n",
        "print(\"Square area:\", square.area())\n",
        "print(\"Square perimeter:\", square.perimeter())\n"
      ],
      "metadata": {
        "colab": {
          "base_uri": "https://localhost:8080/"
        },
        "id": "vGRIvLXssTvw",
        "outputId": "9d79902a-5401-4638-ba36-c4851e5b2a3c"
      },
      "execution_count": null,
      "outputs": [
        {
          "output_type": "stream",
          "name": "stdout",
          "text": [
            "Circle area: 78.53981633974483\n",
            "Circle perimeter: 31.41592653589793\n",
            "Triangle area: 6.0\n",
            "Triangle perimeter: 12\n",
            "Square area: 16\n",
            "Square perimeter: 16\n"
          ]
        }
      ]
    },
    {
      "cell_type": "code",
      "source": [],
      "metadata": {
        "id": "VFlHYlPhseOe"
      },
      "execution_count": null,
      "outputs": []
    },
    {
      "cell_type": "code",
      "source": [],
      "metadata": {
        "id": "tlVE1wNUuFsI"
      },
      "execution_count": null,
      "outputs": []
    }
  ]
}