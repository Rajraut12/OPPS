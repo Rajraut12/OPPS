{
  "nbformat": 4,
  "nbformat_minor": 0,
  "metadata": {
    "colab": {
      "provenance": [],
      "authorship_tag": "ABX9TyP2jEyNgT5yBKtvDq+DwukL",
      "include_colab_link": true
    },
    "kernelspec": {
      "name": "python3",
      "display_name": "Python 3"
    },
    "language_info": {
      "name": "python"
    }
  },
  "cells": [
    {
      "cell_type": "markdown",
      "metadata": {
        "id": "view-in-github",
        "colab_type": "text"
      },
      "source": [
        "<a href=\"https://colab.research.google.com/github/Rajraut12/OPPS/blob/main/Untitled1.ipynb\" target=\"_parent\"><img src=\"https://colab.research.google.com/assets/colab-badge.svg\" alt=\"Open In Colab\"/></a>"
      ]
    },
    {
      "cell_type": "markdown",
      "source": [
        "Write a Python program to create a class representing a binary search tree. Include methods for inserting and searching for elements in the binary tree."
      ],
      "metadata": {
        "id": "2Ddsh7fdm_Wg"
      }
    },
    {
      "cell_type": "code",
      "execution_count": 2,
      "metadata": {
        "colab": {
          "base_uri": "https://localhost:8080/"
        },
        "id": "xi6ojeTpmou-",
        "outputId": "023a6f3e-e547-4635-8754-cfbc8cd2e515"
      },
      "outputs": [
        {
          "output_type": "stream",
          "name": "stdout",
          "text": [
            "<__main__.TreeNode object at 0x7ca1dad2b880>\n",
            "None\n"
          ]
        }
      ],
      "source": [
        "class TreeNode:\n",
        "    def __init__(self, key):\n",
        "        self.key = key\n",
        "        self.left = None\n",
        "        self.right = None\n",
        "\n",
        "class BinarySearchTree:\n",
        "    def __init__(self):\n",
        "        self.root = None\n",
        "\n",
        "    def insert(self, key):\n",
        "        self.root = self._insert_recursive(self.root, key)\n",
        "\n",
        "    def _insert_recursive(self, root, key):\n",
        "        if root is None:\n",
        "            return TreeNode(key)\n",
        "        if key < root.key:\n",
        "            root.left = self._insert_recursive(root.left, key)\n",
        "        elif key > root.key:\n",
        "            root.right = self._insert_recursive(root.right, key)\n",
        "        return root\n",
        "\n",
        "    def search(self, key):\n",
        "        return self._search_recursive(self.root, key)\n",
        "\n",
        "    def _search_recursive(self, root, key):\n",
        "        if root is None or root.key == key:\n",
        "            return root\n",
        "        if key < root.key:\n",
        "            return self._search_recursive(root.left, key)\n",
        "        return self._search_recursive(root.right, key)\n",
        "\n",
        "# Example usage:\n",
        "bst = BinarySearchTree()\n",
        "bst.insert(5)\n",
        "bst.insert(3)\n",
        "bst.insert(7)\n",
        "bst.insert(1)\n",
        "bst.insert(4)\n",
        "\n",
        "print(bst.search(3))  # Output: <__main__.TreeNode object at 0x7f8d983c7ac0>\n",
        "print(bst.search(6))  # Output: None\n"
      ]
    },
    {
      "cell_type": "markdown",
      "source": [
        "Write a Python program to create a class representing a stack data structure. Include methods for pushing and popping elements."
      ],
      "metadata": {
        "id": "0MWdTmb7nhYO"
      }
    },
    {
      "cell_type": "code",
      "source": [
        "class Stack:\n",
        "    def __init__(self):\n",
        "        self.items = []\n",
        "\n",
        "    def push(self, item):\n",
        "        self.items.append(item)\n",
        "\n",
        "    def pop(self):\n",
        "        if not self.is_empty():\n",
        "            return self.items.pop()\n",
        "        else:\n",
        "            raise IndexError(\"pop from an empty stack\")\n",
        "\n",
        "    def is_empty(self):\n",
        "        return len(self.items) == 0\n",
        "\n",
        "    def peek(self):\n",
        "        if not self.is_empty():\n",
        "            return self.items[-1]\n",
        "        else:\n",
        "            return None\n",
        "\n",
        "    def size(self):\n",
        "        return len(self.items)\n",
        "\n",
        "# Example usage:\n",
        "stack = Stack()\n",
        "stack.push(1)\n",
        "stack.push(2)\n",
        "stack.push(3)\n",
        "\n",
        "print(stack.pop())  # Output: 3\n",
        "print(stack.peek())  # Output: 2\n",
        "print(stack.size())  # Output: 2\n"
      ],
      "metadata": {
        "colab": {
          "base_uri": "https://localhost:8080/"
        },
        "id": "HIGj0OK6nJBB",
        "outputId": "f47f82be-2ff6-4f2a-fdfc-1d491072fbbe"
      },
      "execution_count": 3,
      "outputs": [
        {
          "output_type": "stream",
          "name": "stdout",
          "text": [
            "3\n",
            "2\n",
            "2\n"
          ]
        }
      ]
    },
    {
      "cell_type": "markdown",
      "source": [
        "Write a Python program to create a class representing a linked list data structure. Include methods for displaying linked list data, inserting and deleting nodes."
      ],
      "metadata": {
        "id": "COtSYNP7nscT"
      }
    },
    {
      "cell_type": "code",
      "source": [
        "class Node:\n",
        "    def __init__(self, data):\n",
        "        self.data = data\n",
        "        self.next = None\n",
        "\n",
        "class LinkedList:\n",
        "    def __init__(self):\n",
        "        self.head = None\n",
        "\n",
        "    def display(self):\n",
        "        current = self.head\n",
        "        while current:\n",
        "            print(current.data, end=\" -> \")\n",
        "            current = current.next\n",
        "        print(\"None\")\n",
        "\n",
        "    def insert(self, data):\n",
        "        new_node = Node(data)\n",
        "        if not self.head:\n",
        "            self.head = new_node\n",
        "        else:\n",
        "            current = self.head\n",
        "            while current.next:\n",
        "                current = current.next\n",
        "            current.next = new_node\n",
        "\n",
        "    def delete(self, data):\n",
        "        if not self.head:\n",
        "            return\n",
        "\n",
        "        if self.head.data == data:\n",
        "            self.head = self.head.next\n",
        "            return\n",
        "\n",
        "        current = self.head\n",
        "        while current.next:\n",
        "            if current.next.data == data:\n",
        "                current.next = current.next.next\n",
        "                return\n",
        "            current = current.next\n",
        "\n",
        "# Example usage:\n",
        "ll = LinkedList()\n",
        "ll.insert(1)\n",
        "ll.insert(2)\n",
        "ll.insert(3)\n",
        "ll.display()  # Output: 1 -> 2 -> 3 -> None\n",
        "\n",
        "ll.delete(2)\n",
        "ll.display()  # Output: 1 -> 3 -> None\n"
      ],
      "metadata": {
        "colab": {
          "base_uri": "https://localhost:8080/"
        },
        "id": "Xyu_iheCnqz-",
        "outputId": "3433cb61-65e8-4d9e-a505-dbc32c9157b3"
      },
      "execution_count": 4,
      "outputs": [
        {
          "output_type": "stream",
          "name": "stdout",
          "text": [
            "1 -> 2 -> 3 -> None\n",
            "1 -> 3 -> None\n"
          ]
        }
      ]
    },
    {
      "cell_type": "markdown",
      "source": [
        "Write a Python program to create a class representing a shopping cart. Include methods for adding and removing items, and calculating the total price."
      ],
      "metadata": {
        "id": "jMRhM9DwoEXc"
      }
    },
    {
      "cell_type": "code",
      "source": [
        "class ShoppingCart:\n",
        "    def __init__(self):\n",
        "        self.items = {}\n",
        "\n",
        "    def add_item(self, item_name, quantity, price):\n",
        "        if item_name in self.items:\n",
        "            self.items[item_name] += quantity\n",
        "        else:\n",
        "            self.items[item_name] = quantity\n",
        "\n",
        "    def remove_item(self, item_name, quantity):\n",
        "        if item_name in self.items:\n",
        "            if self.items[item_name] <= quantity:\n",
        "                del self.items[item_name]\n",
        "            else:\n",
        "                self.items[item_name] -= quantity\n",
        "\n",
        "    def calculate_total_price(self):\n",
        "        total_price = 0\n",
        "        for item_name, quantity in self.items.items():\n",
        "            total_price += quantity * self._get_item_price(item_name)\n",
        "        return total_price\n",
        "\n",
        "    def _get_item_price(self, item_name):\n",
        "        # This method can be replaced with a call to a database or external API\n",
        "        # to get the price of the item based on its name.\n",
        "        # For simplicity, we'll use a dictionary here.\n",
        "        prices = {\n",
        "            \"apple\": 0.5,\n",
        "            \"banana\": 0.3,\n",
        "            \"orange\": 0.6,\n",
        "        }\n",
        "        return prices.get(item_name, 0)\n",
        "\n",
        "# Example usage:\n",
        "cart = ShoppingCart()\n",
        "cart.add_item(\"apple\", 3, 0.5)\n",
        "cart.add_item(\"banana\", 2, 0.3)\n",
        "cart.add_item(\"orange\", 1, 0.6)\n",
        "print(\"Total Price:\", cart.calculate_total_price())  # Output: Total Price: 2.2\n",
        "\n",
        "cart.remove_item(\"apple\", 1)\n",
        "print(\"Total Price after removing 1 apple:\", cart.calculate_total_price())  # Output: Total Price after removing 1 apple: 1.7\n"
      ],
      "metadata": {
        "colab": {
          "base_uri": "https://localhost:8080/"
        },
        "id": "9a2xU_won20i",
        "outputId": "f6250a50-5b9d-45da-f98e-a7c10c834060"
      },
      "execution_count": 5,
      "outputs": [
        {
          "output_type": "stream",
          "name": "stdout",
          "text": [
            "Total Price: 2.7\n",
            "Total Price after removing 1 apple: 2.2\n"
          ]
        }
      ]
    },
    {
      "cell_type": "markdown",
      "source": [
        "Write a Python program to create a class representing a stack data structure. Include methods for pushing, popping and displaying elements."
      ],
      "metadata": {
        "id": "xxHnkTK1oNzz"
      }
    },
    {
      "cell_type": "code",
      "source": [
        "class Stack:\n",
        "    def __init__(self):\n",
        "        self.items = []\n",
        "\n",
        "    def push(self, item):\n",
        "        self.items.append(item)\n",
        "\n",
        "    def pop(self):\n",
        "        if not self.is_empty():\n",
        "            return self.items.pop()\n",
        "        else:\n",
        "            raise IndexError(\"pop from an empty stack\")\n",
        "\n",
        "    def is_empty(self):\n",
        "        return len(self.items) == 0\n",
        "\n",
        "    def display(self):\n",
        "        print(\"Stack:\", self.items)\n",
        "\n",
        "# Example usage:\n",
        "stack = Stack()\n",
        "stack.push(1)\n",
        "stack.push(2)\n",
        "stack.push(3)\n",
        "stack.display()  # Output: Stack: [1, 2, 3]\n",
        "\n",
        "print(\"Popped:\", stack.pop())  # Output: Popped: 3\n",
        "stack.display()  # Output: Stack: [1, 2]\n"
      ],
      "metadata": {
        "colab": {
          "base_uri": "https://localhost:8080/"
        },
        "id": "YKD0izcVoI43",
        "outputId": "8dc7b61c-62a5-4d34-edb9-e0ee241ebd18"
      },
      "execution_count": 6,
      "outputs": [
        {
          "output_type": "stream",
          "name": "stdout",
          "text": [
            "Stack: [1, 2, 3]\n",
            "Popped: 3\n",
            "Stack: [1, 2]\n"
          ]
        }
      ]
    },
    {
      "cell_type": "markdown",
      "source": [
        "Write a Python program to create a class representing a queue data structure. Include methods for enqueueing and dequeueing elements."
      ],
      "metadata": {
        "id": "2Ykg_64QoUE8"
      }
    },
    {
      "cell_type": "code",
      "source": [
        "class Queue:\n",
        "    def __init__(self):\n",
        "        self.items = []\n",
        "\n",
        "    def enqueue(self, item):\n",
        "        self.items.append(item)\n",
        "\n",
        "    def dequeue(self):\n",
        "        if not self.is_empty():\n",
        "            return self.items.pop(0)\n",
        "        else:\n",
        "            raise IndexError(\"dequeue from an empty queue\")\n",
        "\n",
        "    def is_empty(self):\n",
        "        return len(self.items) == 0\n",
        "\n",
        "# Example usage:\n",
        "queue = Queue()\n",
        "queue.enqueue(1)\n",
        "queue.enqueue(2)\n",
        "queue.enqueue(3)\n",
        "\n",
        "print(queue.dequeue())  # Output: 1\n",
        "print(queue.dequeue())  # Output: 2\n",
        "print(queue.dequeue())  # Output: 3\n"
      ],
      "metadata": {
        "colab": {
          "base_uri": "https://localhost:8080/"
        },
        "id": "nmfA0ufNoQlK",
        "outputId": "0d2cbf0a-f0ba-4d25-aa25-b0734bf5b03d"
      },
      "execution_count": 7,
      "outputs": [
        {
          "output_type": "stream",
          "name": "stdout",
          "text": [
            "1\n",
            "2\n",
            "3\n"
          ]
        }
      ]
    },
    {
      "cell_type": "markdown",
      "source": [
        "Write a Python program to create a class representing a bank. Include methods for managing customer accounts and transactions."
      ],
      "metadata": {
        "id": "UnaCi_YmobxS"
      }
    },
    {
      "cell_type": "code",
      "source": [
        "class Bank:\n",
        "    def __init__(self):\n",
        "        self.customers = {}\n",
        "\n",
        "    def add_customer(self, customer_name):\n",
        "        if customer_name not in self.customers:\n",
        "            self.customers[customer_name] = {\"balance\": 0.0}\n",
        "            print(f\"Customer '{customer_name}' added successfully.\")\n",
        "        else:\n",
        "            print(f\"Customer '{customer_name}' already exists.\")\n",
        "\n",
        "    def remove_customer(self, customer_name):\n",
        "        if customer_name in self.customers:\n",
        "            del self.customers[customer_name]\n",
        "            print(f\"Customer '{customer_name}' removed successfully.\")\n",
        "        else:\n",
        "            print(f\"Customer '{customer_name}' does not exist.\")\n",
        "\n",
        "    def deposit(self, customer_name, amount):\n",
        "        if customer_name in self.customers:\n",
        "            self.customers[customer_name][\"balance\"] += amount\n",
        "            print(f\"Deposit of ${amount} for '{customer_name}' completed successfully.\")\n",
        "        else:\n",
        "            print(f\"Customer '{customer_name}' does not exist.\")\n",
        "\n",
        "    def withdraw(self, customer_name, amount):\n",
        "        if customer_name in self.customers:\n",
        "            if self.customers[customer_name][\"balance\"] >= amount:\n",
        "                self.customers[customer_name][\"balance\"] -= amount\n",
        "                print(f\"Withdrawal of ${amount} for '{customer_name}' completed successfully.\")\n",
        "            else:\n",
        "                print(f\"Insufficient funds for '{customer_name}'.\")\n",
        "        else:\n",
        "            print(f\"Customer '{customer_name}' does not exist.\")\n",
        "\n",
        "    def display_balance(self, customer_name):\n",
        "        if customer_name in self.customers:\n",
        "            print(f\"Balance for '{customer_name}': ${self.customers[customer_name]['balance']}\")\n",
        "        else:\n",
        "            print(f\"Customer '{customer_name}' does not exist.\")\n",
        "\n",
        "# Example usage:\n",
        "bank = Bank()\n",
        "bank.add_customer(\"Alice\")\n",
        "bank.deposit(\"Alice\", 1000)\n",
        "bank.withdraw(\"Alice\", 500)\n",
        "bank.display_balance(\"Alice\")  # Output: Balance for 'Alice': $500.0\n",
        "\n",
        "bank.add_customer(\"Bob\")\n",
        "bank.deposit(\"Bob\", 2000)\n",
        "bank.display_balance(\"Bob\")  # Output: Balance for 'Bob': $2000.0\n",
        "\n",
        "bank.remove_customer(\"Alice\")\n",
        "bank.display_balance(\"Alice\")  # Output: Customer 'Alice' does not exist.\n"
      ],
      "metadata": {
        "colab": {
          "base_uri": "https://localhost:8080/"
        },
        "id": "hRGECyYvoXdb",
        "outputId": "c32c07b4-5ada-4ca0-d367-313b89781ab4"
      },
      "execution_count": 8,
      "outputs": [
        {
          "output_type": "stream",
          "name": "stdout",
          "text": [
            "Customer 'Alice' added successfully.\n",
            "Deposit of $1000 for 'Alice' completed successfully.\n",
            "Withdrawal of $500 for 'Alice' completed successfully.\n",
            "Balance for 'Alice': $500.0\n",
            "Customer 'Bob' added successfully.\n",
            "Deposit of $2000 for 'Bob' completed successfully.\n",
            "Balance for 'Bob': $2000.0\n",
            "Customer 'Alice' removed successfully.\n",
            "Customer 'Alice' does not exist.\n"
          ]
        }
      ]
    }
  ]
}