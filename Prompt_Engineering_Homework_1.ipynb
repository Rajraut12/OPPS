{
  "nbformat": 4,
  "nbformat_minor": 0,
  "metadata": {
    "colab": {
      "provenance": [],
      "authorship_tag": "ABX9TyPTneH97n30RlRtLKbGBx6c",
      "include_colab_link": true
    },
    "kernelspec": {
      "name": "python3",
      "display_name": "Python 3"
    },
    "language_info": {
      "name": "python"
    }
  },
  "cells": [
    {
      "cell_type": "markdown",
      "metadata": {
        "id": "view-in-github",
        "colab_type": "text"
      },
      "source": [
        "<a href=\"https://colab.research.google.com/github/Rajraut12/OPPS/blob/main/Prompt_Engineering_Homework_1.ipynb\" target=\"_parent\"><img src=\"https://colab.research.google.com/assets/colab-badge.svg\" alt=\"Open In Colab\"/></a>"
      ]
    },
    {
      "cell_type": "code",
      "execution_count": 1,
      "metadata": {
        "colab": {
          "base_uri": "https://localhost:8080/"
        },
        "id": "izHArd1rF0eV",
        "outputId": "6647bdd8-d1ea-4106-b35a-7b5ce31cbfd3"
      },
      "outputs": [
        {
          "output_type": "stream",
          "name": "stdout",
          "text": [
            "Collecting langchain\n",
            "  Downloading langchain-0.2.14-py3-none-any.whl.metadata (7.1 kB)\n",
            "Collecting groq\n",
            "  Downloading groq-0.9.0-py3-none-any.whl.metadata (13 kB)\n",
            "Requirement already satisfied: PyYAML>=5.3 in /usr/local/lib/python3.10/dist-packages (from langchain) (6.0.2)\n",
            "Requirement already satisfied: SQLAlchemy<3,>=1.4 in /usr/local/lib/python3.10/dist-packages (from langchain) (2.0.32)\n",
            "Requirement already satisfied: aiohttp<4.0.0,>=3.8.3 in /usr/local/lib/python3.10/dist-packages (from langchain) (3.10.3)\n",
            "Requirement already satisfied: async-timeout<5.0.0,>=4.0.0 in /usr/local/lib/python3.10/dist-packages (from langchain) (4.0.3)\n",
            "Collecting langchain-core<0.3.0,>=0.2.32 (from langchain)\n",
            "  Downloading langchain_core-0.2.33-py3-none-any.whl.metadata (6.2 kB)\n",
            "Collecting langchain-text-splitters<0.3.0,>=0.2.0 (from langchain)\n",
            "  Downloading langchain_text_splitters-0.2.2-py3-none-any.whl.metadata (2.1 kB)\n",
            "Collecting langsmith<0.2.0,>=0.1.17 (from langchain)\n",
            "  Downloading langsmith-0.1.100-py3-none-any.whl.metadata (13 kB)\n",
            "Requirement already satisfied: numpy<2,>=1 in /usr/local/lib/python3.10/dist-packages (from langchain) (1.26.4)\n",
            "Requirement already satisfied: pydantic<3,>=1 in /usr/local/lib/python3.10/dist-packages (from langchain) (2.8.2)\n",
            "Requirement already satisfied: requests<3,>=2 in /usr/local/lib/python3.10/dist-packages (from langchain) (2.32.3)\n",
            "Collecting tenacity!=8.4.0,<9.0.0,>=8.1.0 (from langchain)\n",
            "  Downloading tenacity-8.5.0-py3-none-any.whl.metadata (1.2 kB)\n",
            "Requirement already satisfied: anyio<5,>=3.5.0 in /usr/local/lib/python3.10/dist-packages (from groq) (3.7.1)\n",
            "Requirement already satisfied: distro<2,>=1.7.0 in /usr/lib/python3/dist-packages (from groq) (1.7.0)\n",
            "Collecting httpx<1,>=0.23.0 (from groq)\n",
            "  Downloading httpx-0.27.0-py3-none-any.whl.metadata (7.2 kB)\n",
            "Requirement already satisfied: sniffio in /usr/local/lib/python3.10/dist-packages (from groq) (1.3.1)\n",
            "Requirement already satisfied: typing-extensions<5,>=4.7 in /usr/local/lib/python3.10/dist-packages (from groq) (4.12.2)\n",
            "Requirement already satisfied: aiohappyeyeballs>=2.3.0 in /usr/local/lib/python3.10/dist-packages (from aiohttp<4.0.0,>=3.8.3->langchain) (2.3.5)\n",
            "Requirement already satisfied: aiosignal>=1.1.2 in /usr/local/lib/python3.10/dist-packages (from aiohttp<4.0.0,>=3.8.3->langchain) (1.3.1)\n",
            "Requirement already satisfied: attrs>=17.3.0 in /usr/local/lib/python3.10/dist-packages (from aiohttp<4.0.0,>=3.8.3->langchain) (24.2.0)\n",
            "Requirement already satisfied: frozenlist>=1.1.1 in /usr/local/lib/python3.10/dist-packages (from aiohttp<4.0.0,>=3.8.3->langchain) (1.4.1)\n",
            "Requirement already satisfied: multidict<7.0,>=4.5 in /usr/local/lib/python3.10/dist-packages (from aiohttp<4.0.0,>=3.8.3->langchain) (6.0.5)\n",
            "Requirement already satisfied: yarl<2.0,>=1.0 in /usr/local/lib/python3.10/dist-packages (from aiohttp<4.0.0,>=3.8.3->langchain) (1.9.4)\n",
            "Requirement already satisfied: idna>=2.8 in /usr/local/lib/python3.10/dist-packages (from anyio<5,>=3.5.0->groq) (3.7)\n",
            "Requirement already satisfied: exceptiongroup in /usr/local/lib/python3.10/dist-packages (from anyio<5,>=3.5.0->groq) (1.2.2)\n",
            "Requirement already satisfied: certifi in /usr/local/lib/python3.10/dist-packages (from httpx<1,>=0.23.0->groq) (2024.7.4)\n",
            "Collecting httpcore==1.* (from httpx<1,>=0.23.0->groq)\n",
            "  Downloading httpcore-1.0.5-py3-none-any.whl.metadata (20 kB)\n",
            "Collecting h11<0.15,>=0.13 (from httpcore==1.*->httpx<1,>=0.23.0->groq)\n",
            "  Downloading h11-0.14.0-py3-none-any.whl.metadata (8.2 kB)\n",
            "Collecting jsonpatch<2.0,>=1.33 (from langchain-core<0.3.0,>=0.2.32->langchain)\n",
            "  Downloading jsonpatch-1.33-py2.py3-none-any.whl.metadata (3.0 kB)\n",
            "Requirement already satisfied: packaging<25,>=23.2 in /usr/local/lib/python3.10/dist-packages (from langchain-core<0.3.0,>=0.2.32->langchain) (24.1)\n",
            "Collecting orjson<4.0.0,>=3.9.14 (from langsmith<0.2.0,>=0.1.17->langchain)\n",
            "  Downloading orjson-3.10.7-cp310-cp310-manylinux_2_17_x86_64.manylinux2014_x86_64.whl.metadata (50 kB)\n",
            "\u001b[2K     \u001b[90m━━━━━━━━━━━━━━━━━━━━━━━━━━━━━━━━━━━━━━━━\u001b[0m \u001b[32m50.4/50.4 kB\u001b[0m \u001b[31m381.8 kB/s\u001b[0m eta \u001b[36m0:00:00\u001b[0m\n",
            "\u001b[?25hRequirement already satisfied: annotated-types>=0.4.0 in /usr/local/lib/python3.10/dist-packages (from pydantic<3,>=1->langchain) (0.7.0)\n",
            "Requirement already satisfied: pydantic-core==2.20.1 in /usr/local/lib/python3.10/dist-packages (from pydantic<3,>=1->langchain) (2.20.1)\n",
            "Requirement already satisfied: charset-normalizer<4,>=2 in /usr/local/lib/python3.10/dist-packages (from requests<3,>=2->langchain) (3.3.2)\n",
            "Requirement already satisfied: urllib3<3,>=1.21.1 in /usr/local/lib/python3.10/dist-packages (from requests<3,>=2->langchain) (2.0.7)\n",
            "Requirement already satisfied: greenlet!=0.4.17 in /usr/local/lib/python3.10/dist-packages (from SQLAlchemy<3,>=1.4->langchain) (3.0.3)\n",
            "Collecting jsonpointer>=1.9 (from jsonpatch<2.0,>=1.33->langchain-core<0.3.0,>=0.2.32->langchain)\n",
            "  Downloading jsonpointer-3.0.0-py2.py3-none-any.whl.metadata (2.3 kB)\n",
            "Downloading langchain-0.2.14-py3-none-any.whl (997 kB)\n",
            "\u001b[2K   \u001b[90m━━━━━━━━━━━━━━━━━━━━━━━━━━━━━━━━━━━━━━━━\u001b[0m \u001b[32m997.8/997.8 kB\u001b[0m \u001b[31m24.8 MB/s\u001b[0m eta \u001b[36m0:00:00\u001b[0m\n",
            "\u001b[?25hDownloading groq-0.9.0-py3-none-any.whl (103 kB)\n",
            "\u001b[2K   \u001b[90m━━━━━━━━━━━━━━━━━━━━━━━━━━━━━━━━━━━━━━━━\u001b[0m \u001b[32m103.5/103.5 kB\u001b[0m \u001b[31m5.8 MB/s\u001b[0m eta \u001b[36m0:00:00\u001b[0m\n",
            "\u001b[?25hDownloading httpx-0.27.0-py3-none-any.whl (75 kB)\n",
            "\u001b[2K   \u001b[90m━━━━━━━━━━━━━━━━━━━━━━━━━━━━━━━━━━━━━━━━\u001b[0m \u001b[32m75.6/75.6 kB\u001b[0m \u001b[31m4.3 MB/s\u001b[0m eta \u001b[36m0:00:00\u001b[0m\n",
            "\u001b[?25hDownloading httpcore-1.0.5-py3-none-any.whl (77 kB)\n",
            "\u001b[2K   \u001b[90m━━━━━━━━━━━━━━━━━━━━━━━━━━━━━━━━━━━━━━━━\u001b[0m \u001b[32m77.9/77.9 kB\u001b[0m \u001b[31m5.0 MB/s\u001b[0m eta \u001b[36m0:00:00\u001b[0m\n",
            "\u001b[?25hDownloading langchain_core-0.2.33-py3-none-any.whl (391 kB)\n",
            "\u001b[2K   \u001b[90m━━━━━━━━━━━━━━━━━━━━━━━━━━━━━━━━━━━━━━━━\u001b[0m \u001b[32m391.5/391.5 kB\u001b[0m \u001b[31m17.2 MB/s\u001b[0m eta \u001b[36m0:00:00\u001b[0m\n",
            "\u001b[?25hDownloading langchain_text_splitters-0.2.2-py3-none-any.whl (25 kB)\n",
            "Downloading langsmith-0.1.100-py3-none-any.whl (148 kB)\n",
            "\u001b[2K   \u001b[90m━━━━━━━━━━━━━━━━━━━━━━━━━━━━━━━━━━━━━━━━\u001b[0m \u001b[32m148.9/148.9 kB\u001b[0m \u001b[31m9.0 MB/s\u001b[0m eta \u001b[36m0:00:00\u001b[0m\n",
            "\u001b[?25hDownloading tenacity-8.5.0-py3-none-any.whl (28 kB)\n",
            "Downloading jsonpatch-1.33-py2.py3-none-any.whl (12 kB)\n",
            "Downloading orjson-3.10.7-cp310-cp310-manylinux_2_17_x86_64.manylinux2014_x86_64.whl (141 kB)\n",
            "\u001b[2K   \u001b[90m━━━━━━━━━━━━━━━━━━━━━━━━━━━━━━━━━━━━━━━━\u001b[0m \u001b[32m141.9/141.9 kB\u001b[0m \u001b[31m7.9 MB/s\u001b[0m eta \u001b[36m0:00:00\u001b[0m\n",
            "\u001b[?25hDownloading h11-0.14.0-py3-none-any.whl (58 kB)\n",
            "\u001b[2K   \u001b[90m━━━━━━━━━━━━━━━━━━━━━━━━━━━━━━━━━━━━━━━━\u001b[0m \u001b[32m58.3/58.3 kB\u001b[0m \u001b[31m3.6 MB/s\u001b[0m eta \u001b[36m0:00:00\u001b[0m\n",
            "\u001b[?25hDownloading jsonpointer-3.0.0-py2.py3-none-any.whl (7.6 kB)\n",
            "Installing collected packages: tenacity, orjson, jsonpointer, h11, jsonpatch, httpcore, httpx, langsmith, groq, langchain-core, langchain-text-splitters, langchain\n",
            "  Attempting uninstall: tenacity\n",
            "    Found existing installation: tenacity 9.0.0\n",
            "    Uninstalling tenacity-9.0.0:\n",
            "      Successfully uninstalled tenacity-9.0.0\n",
            "Successfully installed groq-0.9.0 h11-0.14.0 httpcore-1.0.5 httpx-0.27.0 jsonpatch-1.33 jsonpointer-3.0.0 langchain-0.2.14 langchain-core-0.2.33 langchain-text-splitters-0.2.2 langsmith-0.1.100 orjson-3.10.7 tenacity-8.5.0\n",
            "Collecting langchain-groq\n",
            "  Downloading langchain_groq-0.1.9-py3-none-any.whl.metadata (2.9 kB)\n",
            "Requirement already satisfied: groq in /usr/local/lib/python3.10/dist-packages (0.9.0)\n",
            "Requirement already satisfied: langchain-core<0.3.0,>=0.2.26 in /usr/local/lib/python3.10/dist-packages (from langchain-groq) (0.2.33)\n",
            "Requirement already satisfied: anyio<5,>=3.5.0 in /usr/local/lib/python3.10/dist-packages (from groq) (3.7.1)\n",
            "Requirement already satisfied: distro<2,>=1.7.0 in /usr/lib/python3/dist-packages (from groq) (1.7.0)\n",
            "Requirement already satisfied: httpx<1,>=0.23.0 in /usr/local/lib/python3.10/dist-packages (from groq) (0.27.0)\n",
            "Requirement already satisfied: pydantic<3,>=1.9.0 in /usr/local/lib/python3.10/dist-packages (from groq) (2.8.2)\n",
            "Requirement already satisfied: sniffio in /usr/local/lib/python3.10/dist-packages (from groq) (1.3.1)\n",
            "Requirement already satisfied: typing-extensions<5,>=4.7 in /usr/local/lib/python3.10/dist-packages (from groq) (4.12.2)\n",
            "Requirement already satisfied: idna>=2.8 in /usr/local/lib/python3.10/dist-packages (from anyio<5,>=3.5.0->groq) (3.7)\n",
            "Requirement already satisfied: exceptiongroup in /usr/local/lib/python3.10/dist-packages (from anyio<5,>=3.5.0->groq) (1.2.2)\n",
            "Requirement already satisfied: certifi in /usr/local/lib/python3.10/dist-packages (from httpx<1,>=0.23.0->groq) (2024.7.4)\n",
            "Requirement already satisfied: httpcore==1.* in /usr/local/lib/python3.10/dist-packages (from httpx<1,>=0.23.0->groq) (1.0.5)\n",
            "Requirement already satisfied: h11<0.15,>=0.13 in /usr/local/lib/python3.10/dist-packages (from httpcore==1.*->httpx<1,>=0.23.0->groq) (0.14.0)\n",
            "Requirement already satisfied: PyYAML>=5.3 in /usr/local/lib/python3.10/dist-packages (from langchain-core<0.3.0,>=0.2.26->langchain-groq) (6.0.2)\n",
            "Requirement already satisfied: jsonpatch<2.0,>=1.33 in /usr/local/lib/python3.10/dist-packages (from langchain-core<0.3.0,>=0.2.26->langchain-groq) (1.33)\n",
            "Requirement already satisfied: langsmith<0.2.0,>=0.1.75 in /usr/local/lib/python3.10/dist-packages (from langchain-core<0.3.0,>=0.2.26->langchain-groq) (0.1.100)\n",
            "Requirement already satisfied: packaging<25,>=23.2 in /usr/local/lib/python3.10/dist-packages (from langchain-core<0.3.0,>=0.2.26->langchain-groq) (24.1)\n",
            "Requirement already satisfied: tenacity!=8.4.0,<9.0.0,>=8.1.0 in /usr/local/lib/python3.10/dist-packages (from langchain-core<0.3.0,>=0.2.26->langchain-groq) (8.5.0)\n",
            "Requirement already satisfied: annotated-types>=0.4.0 in /usr/local/lib/python3.10/dist-packages (from pydantic<3,>=1.9.0->groq) (0.7.0)\n",
            "Requirement already satisfied: pydantic-core==2.20.1 in /usr/local/lib/python3.10/dist-packages (from pydantic<3,>=1.9.0->groq) (2.20.1)\n",
            "Requirement already satisfied: jsonpointer>=1.9 in /usr/local/lib/python3.10/dist-packages (from jsonpatch<2.0,>=1.33->langchain-core<0.3.0,>=0.2.26->langchain-groq) (3.0.0)\n",
            "Requirement already satisfied: orjson<4.0.0,>=3.9.14 in /usr/local/lib/python3.10/dist-packages (from langsmith<0.2.0,>=0.1.75->langchain-core<0.3.0,>=0.2.26->langchain-groq) (3.10.7)\n",
            "Requirement already satisfied: requests<3,>=2 in /usr/local/lib/python3.10/dist-packages (from langsmith<0.2.0,>=0.1.75->langchain-core<0.3.0,>=0.2.26->langchain-groq) (2.32.3)\n",
            "Requirement already satisfied: charset-normalizer<4,>=2 in /usr/local/lib/python3.10/dist-packages (from requests<3,>=2->langsmith<0.2.0,>=0.1.75->langchain-core<0.3.0,>=0.2.26->langchain-groq) (3.3.2)\n",
            "Requirement already satisfied: urllib3<3,>=1.21.1 in /usr/local/lib/python3.10/dist-packages (from requests<3,>=2->langsmith<0.2.0,>=0.1.75->langchain-core<0.3.0,>=0.2.26->langchain-groq) (2.0.7)\n",
            "Downloading langchain_groq-0.1.9-py3-none-any.whl (14 kB)\n",
            "Installing collected packages: langchain-groq\n",
            "Successfully installed langchain-groq-0.1.9\n"
          ]
        }
      ],
      "source": [
        "!pip install langchain groq\n",
        "!pip install langchain-groq groq"
      ]
    },
    {
      "cell_type": "markdown",
      "source": [
        "# **Part 1: 10 Marks**\n",
        "\n",
        "Write program in the colab notebook to connect to groq API to call a Mistral Model\n",
        "(“mixtral-8x7b-32768”) to run a few prompts against it. Your program should use Groq’s\n",
        "instance of the mistral model using their API via LangChain.\n"
      ],
      "metadata": {
        "id": "VlivuecSIP9W"
      }
    },
    {
      "cell_type": "code",
      "source": [
        "from langchain_groq import ChatGroq\n",
        "from langchain.prompts import PromptTemplate\n",
        "from langchain.chains import LLMChain\n",
        "import os\n",
        "\n",
        "# Set Groq API key\n",
        "os.environ[\"GROQ_API_KEY\"] = \"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\"\n",
        "\n",
        "# Initialize the Groq LLM\n",
        "llm = ChatGroq(model_name=\"mixtral-8x7b-32768\")\n",
        "\n",
        "# Define a prompt template\n",
        "prompt_template = PromptTemplate(\n",
        "    input_variables=[\"topic\"],\n",
        "    template=\"Explain the concept of {topic} in simple terms a high school student can understand.\"\n",
        ")\n",
        "\n",
        "# Create an LLMChain\n",
        "chain = LLMChain(llm=llm, prompt=prompt_template)\n",
        "\n",
        "# Use the chain to generate a response\n",
        "topic = \"time travel\"\n",
        "response = chain.run(topic)\n",
        "\n",
        "print(f\"Explanation of {topic}:\")\n",
        "print(response)"
      ],
      "metadata": {
        "colab": {
          "base_uri": "https://localhost:8080/"
        },
        "id": "xbjmeGsSGjLM",
        "outputId": "5f494722-8dfd-4a8b-82d7-86e67c4acbe6"
      },
      "execution_count": 2,
      "outputs": [
        {
          "output_type": "stream",
          "name": "stderr",
          "text": [
            "/usr/local/lib/python3.10/dist-packages/langchain_core/_api/deprecation.py:141: LangChainDeprecationWarning: The class `LLMChain` was deprecated in LangChain 0.1.17 and will be removed in 1.0. Use RunnableSequence, e.g., `prompt | llm` instead.\n",
            "  warn_deprecated(\n",
            "/usr/local/lib/python3.10/dist-packages/langchain_core/_api/deprecation.py:141: LangChainDeprecationWarning: The method `Chain.run` was deprecated in langchain 0.1.0 and will be removed in 1.0. Use invoke instead.\n",
            "  warn_deprecated(\n"
          ]
        },
        {
          "output_type": "stream",
          "name": "stdout",
          "text": [
            "Explanation of time travel:\n",
            "Time travel is a concept found in science fiction that involves moving between different points in time in a similar way to moving between different points in space. It's like having a time machine that can take you to the past or future.\n",
            "\n",
            "Imagine you have a video of your life from birth until now. You can rewind it to see what happened in the past, or fast-forward it to see what might happen in the future. Time travel is a bit like that, but instead of just watching, you're actually there, experiencing it as if it were happening right now.\n",
            "\n",
            "There are two main types of time travel often discussed:\n",
            "\n",
            "1. Traveling to the past: This means going back to a time before you were born. You could meet your ancestors, see historical events, or even prevent something from happening.\n",
            "\n",
            "2. Traveling to the future: This means going forward to a time after you're gone. You could see how technology has advanced, what the world looks like, or what happens to you and your loved ones.\n",
            "\n",
            "However, time travel raises many complex questions and problems. For example, if you go back in time and change something, does it affect the present? This is known as the \"butterfly effect.\" Also, if you travel to the future, will you be able to come back to the present? These are questions that scientists and philosophers are still trying to understand.\n",
            "\n",
            "In reality, time travel isn't possible with our current understanding of physics. While there are theories that suggest it might be possible under extreme conditions (like traveling at the speed of light or using wormholes), we have no practical way to do it yet. But who knows what the future holds? Maybe one day, time travel will become a reality.\n"
          ]
        }
      ]
    },
    {
      "cell_type": "markdown",
      "source": [
        "# **Part 2: 20 Marks**\n",
        "Write a zero shot prompt to complete one of the following tasks, using above established\n",
        "connection.\n",
        "1. Write a short story about India\n",
        "2. Write a short story about Maharashtra"
      ],
      "metadata": {
        "id": "Ei66X8S9Isev"
      }
    },
    {
      "cell_type": "code",
      "source": [
        "prompt = \"Write a short story about India.\"\n",
        "\n",
        "# Run the prompt using the established connection\n",
        "response = chain.run(prompt)\n",
        "print(response)"
      ],
      "metadata": {
        "colab": {
          "base_uri": "https://localhost:8080/"
        },
        "id": "HiYGGQt5HSDK",
        "outputId": "f3e0ff6b-979c-439f-b291-0218a31b5bed"
      },
      "execution_count": 3,
      "outputs": [
        {
          "output_type": "stream",
          "name": "stdout",
          "text": [
            "Sure, I'd be happy to explain!\n",
            "\n",
            "The concept of writing a short story is about creating a fictional account of events or experiences. It involves inventing characters, settings, and plot, and then weaving them together to create a cohesive and engaging narrative.\n",
            "\n",
            "When it comes to writing a short story about India, there are many different directions you could take. India is a vast and diverse country with a rich history and culture, so there are countless stories to be told.\n",
            "\n",
            "Here's a simple example of a short story set in India:\n",
            "\n",
            "Title: The Festival of Colors\n",
            "\n",
            "Once upon a time, in a small village in India, there lived a young girl named Priya. Priya was a kind and curious child who loved learning about the world around her.\n",
            "\n",
            "One day, Priya's grandmother told her about a special festival that was coming up - Holi, the Festival of Colors. Priya was fascinated by the idea of a festival where people threw colored powders and water at each other, laughing and celebrating.\n",
            "\n",
            "As the day of the festival approached, Priya helped her grandmother prepare traditional sweets and decorations. She couldn't wait to experience the excitement and joy of Holi.\n",
            "\n",
            "On the day of the festival, Priya woke up early and put on her brightest clothes. She joined her friends and neighbors in the village square, where they began to dance and sing as they tossed colored powders into the air.\n",
            "\n",
            "Priya laughed and played with her friends, feeling the vibrant hues of pink, green, blue, and yellow cover her skin. She tasted the sweet treats her grandmother had made, feeling a sense of community and belonging.\n",
            "\n",
            "As the day went on, Priya realized that Holi wasn't just about fun and games - it was also a celebration of new beginnings and the victory of good over evil. She felt grateful to be a part of this beautiful tradition, and looked forward to many more Holi festivals in the years to come.\n",
            "\n",
            "I hope this example helps you understand the concept of writing a short story about India!\n"
          ]
        }
      ]
    },
    {
      "cell_type": "code",
      "source": [
        "prompt = \"Write a short story about Maharashtra\"\n",
        "\n",
        "# Run the prompt using the established connection\n",
        "response = chain.run(prompt)\n",
        "print(response)"
      ],
      "metadata": {
        "colab": {
          "base_uri": "https://localhost:8080/"
        },
        "id": "lS0qYDsKHZZU",
        "outputId": "fe12956a-864f-4691-9aab-73c6d1126e5a"
      },
      "execution_count": 4,
      "outputs": [
        {
          "output_type": "stream",
          "name": "stdout",
          "text": [
            "Sure, I'd be happy to!\n",
            "\n",
            "Maharashtra is a state in western India, known for its rich history, diverse culture, and stunning natural beauty. It is the third largest state in India by area, and the second most populous state with over 114 million people.\n",
            "\n",
            "The capital city of Maharashtra is Mumbai, which is also the financial capital of India and home to the famous Bollywood film industry. Other major cities in Maharashtra include Pune, Nagpur, and Aurangabad.\n",
            "\n",
            "Maharashtra is known for its many historic sites, including the ancient Ajanta and Ellora caves, which are famous for their rock-cut Buddhist temples and artwork. The state is also home to the Gateway of India, a historic archway in Mumbai that was built to commemorate the visit of King George V and Queen Mary to India in 1911.\n",
            "\n",
            "Maharashtra has a diverse culture, with many different languages, religions, and traditions. The official language of the state is Marathi, but many people also speak Hindi, English, and other languages. The state is home to people of many different religions, including Hinduism, Islam, Buddhism, Jainism, and Christianity.\n",
            "\n",
            "The natural beauty of Maharashtra is also a major draw for tourists. The state is home to many national parks and wildlife sanctuaries, including the Tadoba-Andhari Tiger Reserve, which is home to many Bengal tigers and other wildlife. The state is also home to many beautiful beaches, including those in the popular resort town of Goa, which is located in the southwestern corner of Maharashtra.\n",
            "\n",
            "Here's a short story about Maharashtra:\n",
            "\n",
            "Once upon a time, there was a young girl named Meera who lived in a small village in Maharashtra. Meera loved her village and the beautiful countryside around it. She spent her days exploring the hills and forests, and learning about the many different plants and animals that lived there.\n",
            "\n",
            "One day, Meera's teacher announced that the class would be taking a field trip to the Ajanta and Ellora caves. Meera was excited to visit these historic sites and learn more about the history of her state.\n",
            "\n",
            "When Meera and her class arrived at the caves, they were amazed by the intricate carvings and beautiful artwork that decorated the walls. They learned about the Buddhist monks who had lived in the caves and created the art over 1,500 years ago.\n",
            "\n",
            "After the field trip, Meera was inspired to learn more about the history and culture of Maharashtra. She started reading books about the state and visiting museums and historic sites. She even started learning Marathi, the official language of Maharashtra.\n",
            "\n",
            "As Meera grew older, she became more and more proud of her heritage and the rich history of her state. She worked hard to preserve the natural beauty of Maharashtra and promote its cultural traditions. And she always remembered the lessons she learned on that first field trip to the Ajanta and Ellora caves.\n"
          ]
        }
      ]
    },
    {
      "cell_type": "markdown",
      "source": [
        "# **Part 3: 20 Marks**\n",
        "Write a few shot prompts to complete one of the following tasks.\n",
        "1. Given examples of restaurant reviews (there are free datasets, please google them use\n",
        "at most 5), can you classify new reviews as Positive, Negative, Meh!\n",
        "2. Given examples of jokes (create a few examples), classify a new joke as Good or Bad or\n",
        "Meh!\n"
      ],
      "metadata": {
        "id": "JD0XdvOnJB6A"
      }
    },
    {
      "cell_type": "code",
      "source": [
        "# Example restaurant reviews\n",
        "examples = [\n",
        "    \"The food was amazing, and the service was excellent. Highly recommend! -> Positive\",\n",
        "    \"The ambiance was nice, but the food was just okay. -> Meh!\",\n",
        "    \"I did not enjoy the meal at all. It was cold and tasteless. -> Negative\",\n",
        "    \"The dessert was fantastic, but the main course was disappointing. -> Meh!\",\n",
        "    \"Great place for a quick bite, but not for a full meal. -> Meh!\"\n",
        "]\n",
        "\n",
        "# Construct the few-shot prompt\n",
        "few_shot_prompt = \"\\n\".join(examples) + \"\\nClassify the following review: The pizza was delicious, and the staff was friendly.\"\n",
        "\n",
        "# Run the few-shot prompt using the established connection\n",
        "response = chain.run(few_shot_prompt)\n",
        "print(response)\n"
      ],
      "metadata": {
        "colab": {
          "base_uri": "https://localhost:8080/"
        },
        "id": "P-8G0EW_HqiN",
        "outputId": "15a51eb1-af96-4d46-810d-4bd551bab6b6"
      },
      "execution_count": 5,
      "outputs": [
        {
          "output_type": "stream",
          "name": "stdout",
          "text": [
            "This review is positive! The person really enjoyed the pizza and found the staff to be friendly.\n"
          ]
        }
      ]
    },
    {
      "cell_type": "code",
      "source": [
        "# Example jokes\n",
        "examples = [\n",
        "    \"Why don't scientists trust atoms? Because they make up everything! -> Good\",\n",
        "    \"I told my wife she was drawing her eyebrows too high. She looked surprised. -> Good\",\n",
        "    \"What do you call fake spaghetti? An impasta. -> Meh!\",\n",
        "    \"Why did the scarecrow win an award? Because he was outstanding in his field. -> Good\",\n",
        "    \"I used to play piano by ear, but now I use my hands. -> Bad\"\n",
        "]\n",
        "\n",
        "# Construct the few-shot prompt\n",
        "few_shot_prompt = \"\\n\".join(examples) + \"\\nClassify the following joke: Why did the bicycle fall over? Because it was two-tired.\"\n",
        "\n",
        "# Run the few-shot prompt using the established connection\n",
        "response = chain.run(few_shot_prompt)\n",
        "print(response)\n"
      ],
      "metadata": {
        "colab": {
          "base_uri": "https://localhost:8080/"
        },
        "id": "mzAZHLOLIAj-",
        "outputId": "85a460b7-5b29-4c67-88ad-02f3875050a4"
      },
      "execution_count": 6,
      "outputs": [
        {
          "output_type": "stream",
          "name": "stdout",
          "text": [
            "The joke \"Why did the bicycle fall over? Because it was two-tired\" is a play on words, where \"two-tired\" sounds like \"tired,\" but really means \"having two tires.\" The humor comes from the double meaning of the word \"tired.\" It's a simple joke that plays with language and word sounds, and it's good for high school students to understand.\n"
          ]
        }
      ]
    }
  ]
}